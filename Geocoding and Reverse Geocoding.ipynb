{
 "cells": [
  {
   "cell_type": "markdown",
   "metadata": {},
   "source": [
    "## Geocoding And Reverse Geocoding\n",
    "\n",
    "Geocoding (converting a physical adderss or location into latitude/longitude) and reverse geocoding (converting a lat/long to a physical address or location) are common tasks when working with geo-data.\n",
    "\n",
    "Python offers a number of packages to make the task incredibly easy. In the tutorial below, I use pygeocoder, a wrapper for Google's geo-API, to both geocode and reverse geocode.\n",
    "\n",
    "## Preliminaries\n",
    "\n",
    "First we want to load the packages we will want to use in the script. Specifically, I am loading pygeocoder for its geo-functionality, pandas for its dataframe structures, and numpy for its missing value (np.nan) functionality."
   ]
  },
  {
   "cell_type": "code",
   "execution_count": 26,
   "metadata": {},
   "outputs": [],
   "source": [
    "# Load packages\n",
    "from pygeocoder import Geocoder\n",
    "import pandas as pd\n",
    "import numpy as np\n"
   ]
  },
  {
   "cell_type": "code",
   "execution_count": 9,
   "metadata": {},
   "outputs": [
    {
     "name": "stdout",
     "output_type": "stream",
     "text": [
      "Collecting pygeocoder\n",
      "  Downloading https://files.pythonhosted.org/packages/3b/79/2cf3a4dfe54705bbf07cbb25940078dfa595608aa4ecb9f0aaaae9faba08/pygeocoder-1.2.5.tar.gz\n",
      "Requirement already satisfied: requests>=1.0 in c:\\users\\raj\\appdata\\roaming\\python\\python37\\site-packages (from pygeocoder) (2.23.0)\n",
      "Requirement already satisfied: idna<3,>=2.5 in c:\\users\\raj\\appdata\\roaming\\python\\python37\\site-packages (from requests>=1.0->pygeocoder) (2.9)\n",
      "Requirement already satisfied: chardet<4,>=3.0.2 in c:\\users\\raj\\appdata\\roaming\\python\\python37\\site-packages (from requests>=1.0->pygeocoder) (3.0.4)\n",
      "Requirement already satisfied: certifi>=2017.4.17 in c:\\users\\raj\\anaconda3\\lib\\site-packages (from requests>=1.0->pygeocoder) (2019.9.11)\n",
      "Requirement already satisfied: urllib3!=1.25.0,!=1.25.1,<1.26,>=1.21.1 in c:\\users\\raj\\appdata\\roaming\\python\\python37\\site-packages (from requests>=1.0->pygeocoder) (1.25.9)\n",
      "Building wheels for collected packages: pygeocoder\n",
      "  Building wheel for pygeocoder (setup.py): started\n",
      "  Building wheel for pygeocoder (setup.py): finished with status 'done'\n",
      "  Created wheel for pygeocoder: filename=pygeocoder-1.2.5-cp37-none-any.whl size=8889 sha256=7dc7a9b362e2b1755cd672c55e46a49dc769a76151fb58ffdaefb72189a70191\n",
      "  Stored in directory: C:\\Users\\Raj\\AppData\\Local\\pip\\Cache\\wheels\\7c\\4c\\00\\d05c66c4af5411c554c91b8079732c8a0359c2226fb8c01031\n",
      "Successfully built pygeocoder\n",
      "Installing collected packages: pygeocoder\n",
      "Successfully installed pygeocoder-1.2.5\n"
     ]
    }
   ],
   "source": [
    "#!pip install pygeocoder"
   ]
  },
  {
   "cell_type": "markdown",
   "metadata": {},
   "source": [
    "### Create some simulated geo data\n",
    "\n",
    "Geo-data comes in a wide variety of forms, in this case we have a Python dictionary of five latitude and longitude strings, with each coordinate in a coordinate pair separated by a comma."
   ]
  },
  {
   "cell_type": "code",
   "execution_count": 12,
   "metadata": {},
   "outputs": [],
   "source": [
    "# Create a dictionary of raw data\n",
    "data = {'Site 1': '31.336968, -109.560959',\n",
    "        'Site 2': '31.347745, -108.229963',\n",
    "        'Site 3': '32.277621, -107.734724',\n",
    "        'Site 4': '31.655494, -106.420484',\n",
    "        'Site 5': '30.295053, -104.014528'}"
   ]
  },
  {
   "cell_type": "markdown",
   "metadata": {},
   "source": [
    "let us turn the dictionary of simulated data into a dataframe."
   ]
  },
  {
   "cell_type": "code",
   "execution_count": 13,
   "metadata": {},
   "outputs": [],
   "source": [
    "# Convert the dictionary into a pandas dataframe\n",
    "df = pd.DataFrame.from_dict(data, orient='index')"
   ]
  },
  {
   "cell_type": "code",
   "execution_count": 14,
   "metadata": {},
   "outputs": [
    {
     "data": {
      "text/html": [
       "<div>\n",
       "<style scoped>\n",
       "    .dataframe tbody tr th:only-of-type {\n",
       "        vertical-align: middle;\n",
       "    }\n",
       "\n",
       "    .dataframe tbody tr th {\n",
       "        vertical-align: top;\n",
       "    }\n",
       "\n",
       "    .dataframe thead th {\n",
       "        text-align: right;\n",
       "    }\n",
       "</style>\n",
       "<table border=\"1\" class=\"dataframe\">\n",
       "  <thead>\n",
       "    <tr style=\"text-align: right;\">\n",
       "      <th></th>\n",
       "      <th>0</th>\n",
       "    </tr>\n",
       "  </thead>\n",
       "  <tbody>\n",
       "    <tr>\n",
       "      <td>Site 1</td>\n",
       "      <td>31.336968, -109.560959</td>\n",
       "    </tr>\n",
       "    <tr>\n",
       "      <td>Site 2</td>\n",
       "      <td>31.347745, -108.229963</td>\n",
       "    </tr>\n",
       "    <tr>\n",
       "      <td>Site 3</td>\n",
       "      <td>32.277621, -107.734724</td>\n",
       "    </tr>\n",
       "    <tr>\n",
       "      <td>Site 4</td>\n",
       "      <td>31.655494, -106.420484</td>\n",
       "    </tr>\n",
       "    <tr>\n",
       "      <td>Site 5</td>\n",
       "      <td>30.295053, -104.014528</td>\n",
       "    </tr>\n",
       "  </tbody>\n",
       "</table>\n",
       "</div>"
      ],
      "text/plain": [
       "                             0\n",
       "Site 1  31.336968, -109.560959\n",
       "Site 2  31.347745, -108.229963\n",
       "Site 3  32.277621, -107.734724\n",
       "Site 4  31.655494, -106.420484\n",
       "Site 5  30.295053, -104.014528"
      ]
     },
     "execution_count": 14,
     "metadata": {},
     "output_type": "execute_result"
    }
   ],
   "source": [
    "# View the dataframe\n",
    "df"
   ]
  },
  {
   "cell_type": "code",
   "execution_count": 24,
   "metadata": {},
   "outputs": [
    {
     "data": {
      "text/plain": [
       "'31.336968, -109.560959'"
      ]
     },
     "execution_count": 24,
     "metadata": {},
     "output_type": "execute_result"
    }
   ],
   "source": [
    "df[0][0]"
   ]
  },
  {
   "cell_type": "markdown",
   "metadata": {},
   "source": [
    "You can see now that we have a a dataframe with five rows, with each now containing a string of latitude and longitude. Before we can work with the data, we’ll need to \n",
    "\n",
    "1. separate the strings into latitude and longitude \n",
    "\n",
    "2. convert them into floats. \n",
    "\n",
    "The function below does just that."
   ]
  },
  {
   "cell_type": "code",
   "execution_count": 18,
   "metadata": {},
   "outputs": [],
   "source": [
    "# Create two lists for the loop results to be placed\n",
    "lat = []\n",
    "lon = []\n",
    "\n",
    "# For each row in a variable,\n",
    "for row in df[0]:\n",
    "    # Try to,\n",
    "    try:\n",
    "        # Split the row by comms, convert to float, and append\n",
    "        # everything before the comma to lat\n",
    "        lat.append(float(row.split(',')[0]))\n",
    "        # Split the row by comma, convert to float, and append\n",
    "        # everything after the comma to lon\n",
    "        lon.append(float(row.split(',')[1]))\n",
    "    # But if you get an error\n",
    "    except:\n",
    "        # append a missing value to lat\n",
    "        lat.append(np.NaN)\n",
    "        lon.append(np.NaN)\n",
    "        \n",
    "# Create two new columns from lat and lon\n",
    "df['latitude'] = lat\n",
    "df['longitude'] = lon\n"
   ]
  },
  {
   "cell_type": "markdown",
   "metadata": {},
   "source": [
    "let's take a look at what we have."
   ]
  },
  {
   "cell_type": "code",
   "execution_count": 19,
   "metadata": {},
   "outputs": [
    {
     "data": {
      "text/html": [
       "<div>\n",
       "<style scoped>\n",
       "    .dataframe tbody tr th:only-of-type {\n",
       "        vertical-align: middle;\n",
       "    }\n",
       "\n",
       "    .dataframe tbody tr th {\n",
       "        vertical-align: top;\n",
       "    }\n",
       "\n",
       "    .dataframe thead th {\n",
       "        text-align: right;\n",
       "    }\n",
       "</style>\n",
       "<table border=\"1\" class=\"dataframe\">\n",
       "  <thead>\n",
       "    <tr style=\"text-align: right;\">\n",
       "      <th></th>\n",
       "      <th>0</th>\n",
       "      <th>latitude</th>\n",
       "      <th>longitude</th>\n",
       "    </tr>\n",
       "  </thead>\n",
       "  <tbody>\n",
       "    <tr>\n",
       "      <td>Site 1</td>\n",
       "      <td>31.336968, -109.560959</td>\n",
       "      <td>31.336968</td>\n",
       "      <td>-109.560959</td>\n",
       "    </tr>\n",
       "    <tr>\n",
       "      <td>Site 2</td>\n",
       "      <td>31.347745, -108.229963</td>\n",
       "      <td>31.347745</td>\n",
       "      <td>-108.229963</td>\n",
       "    </tr>\n",
       "    <tr>\n",
       "      <td>Site 3</td>\n",
       "      <td>32.277621, -107.734724</td>\n",
       "      <td>32.277621</td>\n",
       "      <td>-107.734724</td>\n",
       "    </tr>\n",
       "    <tr>\n",
       "      <td>Site 4</td>\n",
       "      <td>31.655494, -106.420484</td>\n",
       "      <td>31.655494</td>\n",
       "      <td>-106.420484</td>\n",
       "    </tr>\n",
       "    <tr>\n",
       "      <td>Site 5</td>\n",
       "      <td>30.295053, -104.014528</td>\n",
       "      <td>30.295053</td>\n",
       "      <td>-104.014528</td>\n",
       "    </tr>\n",
       "  </tbody>\n",
       "</table>\n",
       "</div>"
      ],
      "text/plain": [
       "                             0   latitude   longitude\n",
       "Site 1  31.336968, -109.560959  31.336968 -109.560959\n",
       "Site 2  31.347745, -108.229963  31.347745 -108.229963\n",
       "Site 3  32.277621, -107.734724  32.277621 -107.734724\n",
       "Site 4  31.655494, -106.420484  31.655494 -106.420484\n",
       "Site 5  30.295053, -104.014528  30.295053 -104.014528"
      ]
     },
     "execution_count": 19,
     "metadata": {},
     "output_type": "execute_result"
    }
   ],
   "source": [
    "# View the dataframe\n",
    "df"
   ]
  },
  {
   "cell_type": "markdown",
   "metadata": {},
   "source": [
    "Great. This is exactly what we want to see, one column of floats for latitude and one column of floats for longitude.\n",
    "\n",
    "## Reverse Geocoding\n",
    "\n",
    "To reverse geocode, we feed a specific latitude and londitude pair, in this case the first row (indexed as '0') into pygeocoder's reverse_geocoder function."
   ]
  },
  {
   "cell_type": "code",
   "execution_count": 30,
   "metadata": {},
   "outputs": [],
   "source": [
    "# Convert longitude and latitude to a location\n",
    "\n",
    "# results = Geocoder.reverse_geocode(df['latitude'][0], df['longitude'][0])"
   ]
  },
  {
   "cell_type": "code",
   "execution_count": null,
   "metadata": {},
   "outputs": [],
   "source": []
  },
  {
   "cell_type": "code",
   "execution_count": null,
   "metadata": {},
   "outputs": [],
   "source": []
  }
 ],
 "metadata": {
  "kernelspec": {
   "display_name": "Python 3",
   "language": "python",
   "name": "python3"
  },
  "language_info": {
   "codemirror_mode": {
    "name": "ipython",
    "version": 3
   },
   "file_extension": ".py",
   "mimetype": "text/x-python",
   "name": "python",
   "nbconvert_exporter": "python",
   "pygments_lexer": "ipython3",
   "version": "3.7.4"
  }
 },
 "nbformat": 4,
 "nbformat_minor": 2
}
