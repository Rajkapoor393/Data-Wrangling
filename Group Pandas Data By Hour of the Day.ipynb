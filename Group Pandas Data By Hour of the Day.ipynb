{
 "cells": [
  {
   "cell_type": "markdown",
   "metadata": {},
   "source": [
    "## Group Pandas Data By Hour Of The Day\n",
    "\n",
    "### Preliminaries"
   ]
  },
  {
   "cell_type": "code",
   "execution_count": 1,
   "metadata": {},
   "outputs": [],
   "source": [
    "# Import Libraries\n",
    "\n",
    "import pandas as pd\n",
    "import numpy as np\n"
   ]
  },
  {
   "cell_type": "markdown",
   "metadata": {},
   "source": [
    "### Create Data"
   ]
  },
  {
   "cell_type": "code",
   "execution_count": 3,
   "metadata": {},
   "outputs": [],
   "source": [
    "# Create a time series of 2000 elements, one very five minutes starting on 1/1/2000\n",
    "time = pd.date_range('1/1/2000', periods=2000, freq='5min')\n",
    "\n",
    "# Create a pandas series with a random values between 0 and 100, using 'time' as index\n",
    "series = pd.Series(np.random.randint(100, size=2000), index=time)"
   ]
  },
  {
   "cell_type": "markdown",
   "metadata": {},
   "source": [
    "### View Data"
   ]
  },
  {
   "cell_type": "code",
   "execution_count": 4,
   "metadata": {},
   "outputs": [
    {
     "data": {
      "text/plain": [
       "2000-01-01 00:00:00    33\n",
       "2000-01-01 00:05:00    34\n",
       "2000-01-01 00:10:00    74\n",
       "2000-01-01 00:15:00    35\n",
       "2000-01-01 00:20:00    26\n",
       "2000-01-01 00:25:00    13\n",
       "2000-01-01 00:30:00    34\n",
       "2000-01-01 00:35:00    84\n",
       "2000-01-01 00:40:00    30\n",
       "2000-01-01 00:45:00    79\n",
       "Freq: 5T, dtype: int32"
      ]
     },
     "execution_count": 4,
     "metadata": {},
     "output_type": "execute_result"
    }
   ],
   "source": [
    "# View the first few rows of the data\n",
    "series[0:10]"
   ]
  },
  {
   "cell_type": "markdown",
   "metadata": {},
   "source": [
    "### Group Data By Time Of The Day"
   ]
  },
  {
   "cell_type": "code",
   "execution_count": 5,
   "metadata": {},
   "outputs": [
    {
     "data": {
      "text/plain": [
       "0     52.357143\n",
       "1     52.023810\n",
       "2     49.357143\n",
       "3     49.857143\n",
       "4     45.083333\n",
       "5     43.035714\n",
       "6     52.535714\n",
       "7     53.702381\n",
       "8     53.023810\n",
       "9     48.035714\n",
       "10    46.892857\n",
       "11    46.000000\n",
       "12    50.892857\n",
       "13    50.761905\n",
       "14    48.845238\n",
       "15    51.083333\n",
       "16    52.202381\n",
       "17    52.964286\n",
       "18    55.845238\n",
       "19    49.630952\n",
       "20    49.726190\n",
       "21    47.952381\n",
       "22    47.175000\n",
       "23    48.930556\n",
       "dtype: float64"
      ]
     },
     "execution_count": 5,
     "metadata": {},
     "output_type": "execute_result"
    }
   ],
   "source": [
    "# Group the data by index's hour value, then aggregate by the average\n",
    "series.groupby(series.index.hour).mean()"
   ]
  },
  {
   "cell_type": "code",
   "execution_count": null,
   "metadata": {},
   "outputs": [],
   "source": []
  }
 ],
 "metadata": {
  "kernelspec": {
   "display_name": "Python 3",
   "language": "python",
   "name": "python3"
  },
  "language_info": {
   "codemirror_mode": {
    "name": "ipython",
    "version": 3
   },
   "file_extension": ".py",
   "mimetype": "text/x-python",
   "name": "python",
   "nbconvert_exporter": "python",
   "pygments_lexer": "ipython3",
   "version": "3.7.4"
  }
 },
 "nbformat": 4,
 "nbformat_minor": 2
}
