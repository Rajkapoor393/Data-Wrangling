{
 "cells": [
  {
   "cell_type": "markdown",
   "metadata": {},
   "source": [
    "### Enumerate A List"
   ]
  },
  {
   "cell_type": "code",
   "execution_count": 1,
   "metadata": {},
   "outputs": [],
   "source": [
    "# Create a list of strings\n",
    "\n",
    "data = [ 'One', 'Two','Three', 'Fout', 'Five']"
   ]
  },
  {
   "cell_type": "code",
   "execution_count": 2,
   "metadata": {},
   "outputs": [
    {
     "name": "stdout",
     "output_type": "stream",
     "text": [
      "(0, 'One')\n",
      "One\n",
      "(1, 'Two')\n",
      "Two\n",
      "(2, 'Three')\n",
      "Three\n",
      "(3, 'Fout')\n",
      "Fout\n",
      "(4, 'Five')\n",
      "Five\n"
     ]
    }
   ],
   "source": [
    "# For each item in the enumerated variable, data\n",
    "for item in enumerate(data):\n",
    "    # Print the whole enumerated element\n",
    "    print(item)\n",
    "    # Print only the value (not the index number)\n",
    "    print(item[1])"
   ]
  },
  {
   "cell_type": "code",
   "execution_count": null,
   "metadata": {},
   "outputs": [],
   "source": []
  }
 ],
 "metadata": {
  "kernelspec": {
   "display_name": "Python 3",
   "language": "python",
   "name": "python3"
  },
  "language_info": {
   "codemirror_mode": {
    "name": "ipython",
    "version": 3
   },
   "file_extension": ".py",
   "mimetype": "text/x-python",
   "name": "python",
   "nbconvert_exporter": "python",
   "pygments_lexer": "ipython3",
   "version": "3.7.4"
  }
 },
 "nbformat": 4,
 "nbformat_minor": 2
}
