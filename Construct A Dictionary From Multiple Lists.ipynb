{
 "cells": [
  {
   "cell_type": "markdown",
   "metadata": {},
   "source": [
    "# Construct A Dictionary From Multiple Lists"
   ]
  },
  {
   "cell_type": "markdown",
   "metadata": {},
   "source": [
    "### Create Two Lists"
   ]
  },
  {
   "cell_type": "code",
   "execution_count": 3,
   "metadata": {},
   "outputs": [],
   "source": [
    "# Create a list of the officer's name\n",
    "\n",
    "officer_names = ['Sodoni Dogla', 'Chris Jefferson', 'Jessica Billars', 'Michael Mulligan', 'Steven Johnson']\n",
    "\n",
    "# Create a list of the officer's army\n",
    "officer_armies = ['Purple Army', 'Orange Army', 'Green Army', 'Red Army', 'Blue Army']"
   ]
  },
  {
   "cell_type": "markdown",
   "metadata": {},
   "source": [
    "### Construct a Dictionary from the two lists\n"
   ]
  },
  {
   "cell_type": "code",
   "execution_count": 4,
   "metadata": {},
   "outputs": [
    {
     "data": {
      "text/plain": [
       "{'Sodoni Dogla': 'Purple Army',\n",
       " 'Chris Jefferson': 'Orange Army',\n",
       " 'Jessica Billars': 'Green Army',\n",
       " 'Michael Mulligan': 'Red Army',\n",
       " 'Steven Johnson': 'Blue Army'}"
      ]
     },
     "execution_count": 4,
     "metadata": {},
     "output_type": "execute_result"
    }
   ],
   "source": [
    "# Create a dictionary that is the zip of the two lists\n",
    "dict(zip(officer_names, officer_armies))"
   ]
  },
  {
   "cell_type": "markdown",
   "metadata": {},
   "source": [
    "# Columns shared by two data frames"
   ]
  },
  {
   "cell_type": "markdown",
   "metadata": {},
   "source": [
    "### Preliminaries"
   ]
  },
  {
   "cell_type": "code",
   "execution_count": 5,
   "metadata": {},
   "outputs": [],
   "source": [
    "# Import library\n",
    "import pandas as pd"
   ]
  },
  {
   "cell_type": "code",
   "execution_count": 6,
   "metadata": {},
   "outputs": [],
   "source": [
    "# Create a data frame\n",
    "\n",
    "dataframe_one =pd.DataFrame()\n",
    "dataframe_one['1'] =['1','1','1']\n",
    "dataframe_one['B'] =['b', 'b', 'b']\n",
    "\n",
    "# Create a second data frame\n",
    "dataframe_two = pd.DataFrame()\n",
    "dataframe_two['2'] = ['2', '2', '2']\n",
    "dataframe_two['B'] = ['b', 'b', 'b']"
   ]
  },
  {
   "cell_type": "markdown",
   "metadata": {},
   "source": [
    "### Find shared columns"
   ]
  },
  {
   "cell_type": "code",
   "execution_count": 11,
   "metadata": {},
   "outputs": [
    {
     "data": {
      "text/plain": [
       "{'B'}"
      ]
     },
     "execution_count": 11,
     "metadata": {},
     "output_type": "execute_result"
    }
   ],
   "source": [
    "# Convert each data frame's columns into sets, then find\n",
    "# the intersection of those two sets. This will be the \n",
    "# set of columns shared by both data frames.\n",
    "\n",
    "set.intersection(set(dataframe_one),set(dataframe_two))"
   ]
  },
  {
   "cell_type": "code",
   "execution_count": null,
   "metadata": {},
   "outputs": [],
   "source": []
  }
 ],
 "metadata": {
  "kernelspec": {
   "display_name": "Python 3",
   "language": "python",
   "name": "python3"
  },
  "language_info": {
   "codemirror_mode": {
    "name": "ipython",
    "version": 3
   },
   "file_extension": ".py",
   "mimetype": "text/x-python",
   "name": "python",
   "nbconvert_exporter": "python",
   "pygments_lexer": "ipython3",
   "version": "3.7.4"
  }
 },
 "nbformat": 4,
 "nbformat_minor": 2
}
